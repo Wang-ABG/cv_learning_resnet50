{
 "cells": [
  {
   "cell_type": "code",
   "execution_count": 1,
   "metadata": {
    "execution": {
     "iopub.execute_input": "2021-12-08T15:27:23.030384Z",
     "iopub.status.busy": "2021-12-08T15:27:23.028741Z",
     "iopub.status.idle": "2021-12-08T15:27:24.458099Z",
     "shell.execute_reply": "2021-12-08T15:27:24.457070Z",
     "shell.execute_reply.started": "2021-12-08T15:27:23.030305Z"
    }
   },
   "outputs": [],
   "source": [
    "# 导入NumPy数学工具箱\n",
    "import numpy as np \n",
    "# 导入Pandas数据处理工具箱\n",
    "import pandas as pd\n",
    "# 从 Keras中导入 mnist数据集\n",
    "from keras.datasets import mnist\n",
    "\n",
    "#读入训练集和测试集\n",
    "(x_train_image, y_train_lable), (x_test_image, y_test_lable) =  mnist.load_data() "
   ]
  },
  {
   "cell_type": "code",
   "execution_count": 2,
   "metadata": {
    "execution": {
     "iopub.execute_input": "2021-12-08T15:27:24.460586Z",
     "iopub.status.busy": "2021-12-08T15:27:24.460267Z",
     "iopub.status.idle": "2021-12-08T15:27:24.470512Z",
     "shell.execute_reply": "2021-12-08T15:27:24.469599Z",
     "shell.execute_reply.started": "2021-12-08T15:27:24.460524Z"
    }
   },
   "outputs": [
    {
     "name": "stdout",
     "output_type": "stream",
     "text": [
      "特征集张量形状： (60000, 28, 28)\n",
      "第一个数据样本：\n",
      " [[  0   0   0   0   0   0   0   0   0   0   0   0   0   0   0   0   0   0\n",
      "    0   0   0   0   0   0   0   0   0   0]\n",
      " [  0   0   0   0   0   0   0   0   0   0   0   0   0   0   0   0   0   0\n",
      "    0   0   0   0   0   0   0   0   0   0]\n",
      " [  0   0   0   0   0   0   0   0   0   0   0   0   0   0   0   0   0   0\n",
      "    0   0   0   0   0   0   0   0   0   0]\n",
      " [  0   0   0   0   0   0   0   0   0   0   0   0   0   0   0   0   0   0\n",
      "    0   0   0   0   0   0   0   0   0   0]\n",
      " [  0   0   0   0   0   0   0   0   0   0   0   0   0   0   0   0   0   0\n",
      "    0   0   0   0   0   0   0   0   0   0]\n",
      " [  0   0   0   0   0   0   0   0   0   0   0   0   3  18  18  18 126 136\n",
      "  175  26 166 255 247 127   0   0   0   0]\n",
      " [  0   0   0   0   0   0   0   0  30  36  94 154 170 253 253 253 253 253\n",
      "  225 172 253 242 195  64   0   0   0   0]\n",
      " [  0   0   0   0   0   0   0  49 238 253 253 253 253 253 253 253 253 251\n",
      "   93  82  82  56  39   0   0   0   0   0]\n",
      " [  0   0   0   0   0   0   0  18 219 253 253 253 253 253 198 182 247 241\n",
      "    0   0   0   0   0   0   0   0   0   0]\n",
      " [  0   0   0   0   0   0   0   0  80 156 107 253 253 205  11   0  43 154\n",
      "    0   0   0   0   0   0   0   0   0   0]\n",
      " [  0   0   0   0   0   0   0   0   0  14   1 154 253  90   0   0   0   0\n",
      "    0   0   0   0   0   0   0   0   0   0]\n",
      " [  0   0   0   0   0   0   0   0   0   0   0 139 253 190   2   0   0   0\n",
      "    0   0   0   0   0   0   0   0   0   0]\n",
      " [  0   0   0   0   0   0   0   0   0   0   0  11 190 253  70   0   0   0\n",
      "    0   0   0   0   0   0   0   0   0   0]\n",
      " [  0   0   0   0   0   0   0   0   0   0   0   0  35 241 225 160 108   1\n",
      "    0   0   0   0   0   0   0   0   0   0]\n",
      " [  0   0   0   0   0   0   0   0   0   0   0   0   0  81 240 253 253 119\n",
      "   25   0   0   0   0   0   0   0   0   0]\n",
      " [  0   0   0   0   0   0   0   0   0   0   0   0   0   0  45 186 253 253\n",
      "  150  27   0   0   0   0   0   0   0   0]\n",
      " [  0   0   0   0   0   0   0   0   0   0   0   0   0   0   0  16  93 252\n",
      "  253 187   0   0   0   0   0   0   0   0]\n",
      " [  0   0   0   0   0   0   0   0   0   0   0   0   0   0   0   0   0 249\n",
      "  253 249  64   0   0   0   0   0   0   0]\n",
      " [  0   0   0   0   0   0   0   0   0   0   0   0   0   0  46 130 183 253\n",
      "  253 207   2   0   0   0   0   0   0   0]\n",
      " [  0   0   0   0   0   0   0   0   0   0   0   0  39 148 229 253 253 253\n",
      "  250 182   0   0   0   0   0   0   0   0]\n",
      " [  0   0   0   0   0   0   0   0   0   0  24 114 221 253 253 253 253 201\n",
      "   78   0   0   0   0   0   0   0   0   0]\n",
      " [  0   0   0   0   0   0   0   0  23  66 213 253 253 253 253 198  81   2\n",
      "    0   0   0   0   0   0   0   0   0   0]\n",
      " [  0   0   0   0   0   0  18 171 219 253 253 253 253 195  80   9   0   0\n",
      "    0   0   0   0   0   0   0   0   0   0]\n",
      " [  0   0   0   0  55 172 226 253 253 253 253 244 133  11   0   0   0   0\n",
      "    0   0   0   0   0   0   0   0   0   0]\n",
      " [  0   0   0   0 136 253 253 253 212 135 132  16   0   0   0   0   0   0\n",
      "    0   0   0   0   0   0   0   0   0   0]\n",
      " [  0   0   0   0   0   0   0   0   0   0   0   0   0   0   0   0   0   0\n",
      "    0   0   0   0   0   0   0   0   0   0]\n",
      " [  0   0   0   0   0   0   0   0   0   0   0   0   0   0   0   0   0   0\n",
      "    0   0   0   0   0   0   0   0   0   0]\n",
      " [  0   0   0   0   0   0   0   0   0   0   0   0   0   0   0   0   0   0\n",
      "    0   0   0   0   0   0   0   0   0   0]]\n"
     ]
    }
   ],
   "source": [
    "print (\"特征集张量形状：\", x_train_image.shape) #用shape方法显示张量的形状\n",
    "print (\"第一个数据样本：\\n\", x_train_image[0]) #注意Python的索引是从0开始的"
   ]
  },
  {
   "cell_type": "code",
   "execution_count": 3,
   "metadata": {
    "execution": {
     "iopub.execute_input": "2021-12-08T15:27:24.472332Z",
     "iopub.status.busy": "2021-12-08T15:27:24.471882Z",
     "iopub.status.idle": "2021-12-08T15:27:24.482351Z",
     "shell.execute_reply": "2021-12-08T15:27:24.481251Z",
     "shell.execute_reply.started": "2021-12-08T15:27:24.472297Z"
    }
   },
   "outputs": [
    {
     "name": "stdout",
     "output_type": "stream",
     "text": [
      "第一个数据样本的标签： 5\n"
     ]
    }
   ],
   "source": [
    "print (\"第一个数据样本的标签：\", y_train_lable[0])"
   ]
  },
  {
   "cell_type": "code",
   "execution_count": 4,
   "metadata": {
    "execution": {
     "iopub.execute_input": "2021-12-08T15:27:24.483864Z",
     "iopub.status.busy": "2021-12-08T15:27:24.483488Z",
     "iopub.status.idle": "2021-12-08T15:27:24.502648Z",
     "shell.execute_reply": "2021-12-08T15:27:24.501625Z",
     "shell.execute_reply.started": "2021-12-08T15:27:24.483833Z"
    }
   },
   "outputs": [],
   "source": [
    "# 导入keras.utils工具箱的类别转换工具\n",
    "from tensorflow.keras.utils import to_categorical\n",
    "# 给标签增加维度,使其满足模型的需要\n",
    "# 原始标签，比如训练集标签的维度信息是[60000, 28, 28, 1]\n",
    "x_train = x_train_image.reshape(60000,28,28,1)\n",
    "x_test = x_test_image.reshape(10000,28,28,1)\n",
    "# 特征转换为one-hot编码\n",
    "y_train = to_categorical(y_train_lable, 10)\n",
    "y_test = to_categorical(y_test_lable, 10)"
   ]
  },
  {
   "cell_type": "code",
   "execution_count": 5,
   "metadata": {
    "execution": {
     "iopub.execute_input": "2021-12-08T15:27:24.505442Z",
     "iopub.status.busy": "2021-12-08T15:27:24.505123Z",
     "iopub.status.idle": "2021-12-08T15:27:24.728576Z",
     "shell.execute_reply": "2021-12-08T15:27:24.727703Z",
     "shell.execute_reply.started": "2021-12-08T15:27:24.505400Z"
    }
   },
   "outputs": [],
   "source": [
    "# 从 keras 中导入模型\n",
    "from keras import models \n",
    "# 从 keras.layers 中导入神经网络需要的计算层\n",
    "from keras.layers import Dense, Dropout, Flatten, Conv2D, MaxPooling2D\n",
    "# 构建一个最基础的连续的模型，所谓连续，就是一层接着一层\n",
    "model = models.Sequential()\n",
    "# 第一层为一个卷积，卷积核大小为(3,3), 输出通道32，使用 relu 作为激活函数\n",
    "model.add(Conv2D(32, (3, 3), activation='relu', \n",
    "                 input_shape=(28,28,1)))\n",
    "# 第二层为一个最大池化层，池化核为（2,2)\n",
    "# 最大池化的作用，是取出池化核（2,2）范围内最大的像素点代表该区域\n",
    "# 可减少数据量，降低运算量。\n",
    "model.add(MaxPooling2D(pool_size=(2, 2)))\n",
    "# 又经过一个（3,3）的卷积，输出通道变为64，也就是提取了64个特征。\n",
    "# 同样为 relu 激活函数\n",
    "model.add(Conv2D(64, (3, 3), activation='relu'))\n",
    "# 上面通道数增大，运算量增大，此处再加一个最大池化，降低运算\n",
    "model.add(MaxPooling2D(pool_size=(2, 2)))\n",
    "# dropout 随机设置一部分神经元的权值为零，在训练时用于防止过拟合\n",
    "# 这里设置25%的神经元权值为零\n",
    "model.add(Dropout(0.25)) \n",
    "# 将结果展平成1维的向量\n",
    "model.add(Flatten())\n",
    "# 增加一个全连接层，用来进一步特征融合\n",
    "model.add(Dense(128, activation='relu'))\n",
    "# 再设置一个dropout层，将50%的神经元权值为零，防止过拟合\n",
    "# 由于一般的神经元处于关闭状态，这样也可以加速训练\n",
    "model.add(Dropout(0.5)) \n",
    "# 最后添加一个全连接+softmax激活，输出10个分类，分别对应0-9 这10个数字\n",
    "model.add(Dense(10, activation='softmax'))"
   ]
  },
  {
   "cell_type": "code",
   "execution_count": 6,
   "metadata": {},
   "outputs": [],
   "source": [
    "# 编译上述构建好的神经网络模型\n",
    "# 指定优化器为 rmsprop\n",
    "# 制定损失函数为交叉熵损失\n",
    "model.compile(optimizer='rmsprop',\n",
    "              loss='categorical_crossentropy',\n",
    "              metrics=['accuracy'])"
   ]
  },
  {
   "cell_type": "code",
   "execution_count": 7,
   "metadata": {
    "execution": {
     "iopub.execute_input": "2021-12-08T15:27:24.730300Z",
     "iopub.status.busy": "2021-12-08T15:27:24.730039Z",
     "iopub.status.idle": "2021-12-08T15:28:26.373105Z",
     "shell.execute_reply": "2021-12-08T15:28:26.372436Z",
     "shell.execute_reply.started": "2021-12-08T15:27:24.730270Z"
    }
   },
   "outputs": [
    {
     "name": "stdout",
     "output_type": "stream",
     "text": [
      "Epoch 1/5\n",
      "329/329 [==============================] - 20s 60ms/step - loss: 1.2911 - accuracy: 0.8003 - val_loss: 0.1663 - val_accuracy: 0.9514\n",
      "Epoch 2/5\n",
      "329/329 [==============================] - 19s 59ms/step - loss: 0.2070 - accuracy: 0.9440 - val_loss: 0.1095 - val_accuracy: 0.9718\n",
      "Epoch 3/5\n",
      "329/329 [==============================] - 20s 60ms/step - loss: 0.1471 - accuracy: 0.9595 - val_loss: 0.0622 - val_accuracy: 0.9822\n",
      "Epoch 4/5\n",
      "329/329 [==============================] - 20s 60ms/step - loss: 0.1208 - accuracy: 0.9678 - val_loss: 0.0610 - val_accuracy: 0.9838\n",
      "Epoch 5/5\n",
      "329/329 [==============================] - 20s 60ms/step - loss: 0.1012 - accuracy: 0.9724 - val_loss: 0.0644 - val_accuracy: 0.9820\n"
     ]
    },
    {
     "data": {
      "text/plain": [
       "<keras.callbacks.History at 0x191641a1a60>"
      ]
     },
     "execution_count": 7,
     "metadata": {},
     "output_type": "execute_result"
    }
   ],
   "source": [
    "# 开始训练              \n",
    "model.fit(x_train, y_train, # 指定训练特征集和训练标签集\n",
    "          validation_split = 0.3, # 部分训练集数据拆分成验证集\n",
    "          epochs=5, # 训练轮次为5轮\n",
    "          batch_size=128) # 以128为批量进行训练"
   ]
  },
  {
   "cell_type": "code",
   "execution_count": 8,
   "metadata": {
    "execution": {
     "iopub.execute_input": "2021-12-08T15:28:26.374726Z",
     "iopub.status.busy": "2021-12-08T15:28:26.374196Z",
     "iopub.status.idle": "2021-12-08T15:28:27.672944Z",
     "shell.execute_reply": "2021-12-08T15:28:27.672214Z",
     "shell.execute_reply.started": "2021-12-08T15:28:26.374692Z"
    }
   },
   "outputs": [
    {
     "name": "stdout",
     "output_type": "stream",
     "text": [
      "313/313 [==============================] - 2s 6ms/step - loss: 0.0529 - accuracy: 0.9848\n",
      "测试集预测准确率: 0.9847999811172485\n"
     ]
    }
   ],
   "source": [
    "# 在测试集上进行模型评估\n",
    "score = model.evaluate(x_test, y_test) \n",
    "print('测试集预测准确率:', score[1]) # 打印测试集上的预测准确率"
   ]
  },
  {
   "cell_type": "code",
   "execution_count": 9,
   "metadata": {
    "execution": {
     "iopub.execute_input": "2021-12-08T15:28:27.674302Z",
     "iopub.status.busy": "2021-12-08T15:28:27.674063Z",
     "iopub.status.idle": "2021-12-08T15:28:28.051820Z",
     "shell.execute_reply": "2021-12-08T15:28:28.051054Z",
     "shell.execute_reply.started": "2021-12-08T15:28:27.674274Z"
    }
   },
   "outputs": [
    {
     "name": "stdout",
     "output_type": "stream",
     "text": [
      "1/1 [==============================] - 0s 136ms/step\n",
      "[9.66516262e-15 1.89119055e-12 4.02508826e-09 9.05649167e-11\n",
      " 7.17695167e-15 6.04624823e-16 8.34067861e-20 1.00000000e+00\n",
      " 1.61423524e-14 1.06444846e-10] 转换一下格式得到： 7\n"
     ]
    },
    {
     "data": {
      "text/plain": [
       "<matplotlib.image.AxesImage at 0x19168013880>"
      ]
     },
     "execution_count": 9,
     "metadata": {},
     "output_type": "execute_result"
    },
    {
     "data": {
      "image/png": "[encoded data removed]",
      "text/plain": [
       "<Figure size 640x480 with 1 Axes>"
      ]
     },
     "metadata": {},
     "output_type": "display_data"
    }
   ],
   "source": [
    "# 预测验证集第一个数据\n",
    "pred = model.predict(x_test[0].reshape(1, 28, 28, 1)) \n",
    "# 把one-hot码转换为数字\n",
    "print(pred[0],\"转换一下格式得到：\",pred.argmax())\n",
    " # 导入绘图工具包\n",
    "import matplotlib.pyplot as plt\n",
    "# 输出这个图片\n",
    "plt.imshow(x_test[0].reshape(28, 28),cmap='Greys')"
   ]
  },
  {
   "cell_type": "code",
   "execution_count": null,
   "metadata": {},
   "outputs": [],
   "source": []
  },
  {
   "cell_type": "code",
   "execution_count": null,
   "metadata": {},
   "outputs": [],
   "source": []
  }
 ],
 "metadata": {
  "kernelspec": {
   "display_name": "Python 3 (ipykernel)",
   "language": "python",
   "name": "python3"
  },
  "language_info": {
   "codemirror_mode": {
    "name": "ipython",
    "version": 3
   },
   "file_extension": ".py",
   "mimetype": "text/x-python",
   "name": "python",
   "nbconvert_exporter": "python",
   "pygments_lexer": "ipython3",
   "version": "3.9.13"
  },
  "toc": {
   "base_numbering": 1,
   "nav_menu": {},
   "number_sections": true,
   "sideBar": true,
   "skip_h1_title": false,
   "title_cell": "Table of Contents",
   "title_sidebar": "Contents",
   "toc_cell": false,
   "toc_position": {},
   "toc_section_display": true,
   "toc_window_display": false
  }
 },
 "nbformat": 4,
 "nbformat_minor": 4
}
